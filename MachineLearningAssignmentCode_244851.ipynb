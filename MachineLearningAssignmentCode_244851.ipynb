{
  "nbformat": 4,
  "nbformat_minor": 0,
  "metadata": {
    "colab": {
      "name": "MachineLearningAssignment",
      "provenance": [],
      "collapsed_sections": []
    },
    "kernelspec": {
      "name": "python3",
      "display_name": "Python 3"
    },
    "language_info": {
      "name": "python"
    }
  },
  "cells": [
    {
      "cell_type": "code",
      "metadata": {
        "id": "rZ2kq6rNqGro",
        "colab": {
          "base_uri": "https://localhost:8080/"
        },
        "outputId": "d7f90da4-4bba-4f3b-f987-c4511851df10"
      },
      "source": [
        "!pip install 'aif360[LFR]'"
      ],
      "execution_count": null,
      "outputs": [
        {
          "output_type": "stream",
          "name": "stdout",
          "text": [
            "Collecting aif360[LFR]\n",
            "  Downloading aif360-0.4.0-py3-none-any.whl (175 kB)\n",
            "\u001b[?25l\r\u001b[K     |█▉                              | 10 kB 16.8 MB/s eta 0:00:01\r\u001b[K     |███▊                            | 20 kB 10.9 MB/s eta 0:00:01\r\u001b[K     |█████▋                          | 30 kB 8.3 MB/s eta 0:00:01\r\u001b[K     |███████▌                        | 40 kB 7.5 MB/s eta 0:00:01\r\u001b[K     |█████████▍                      | 51 kB 4.5 MB/s eta 0:00:01\r\u001b[K     |███████████▎                    | 61 kB 5.3 MB/s eta 0:00:01\r\u001b[K     |█████████████                   | 71 kB 5.5 MB/s eta 0:00:01\r\u001b[K     |███████████████                 | 81 kB 4.3 MB/s eta 0:00:01\r\u001b[K     |████████████████▉               | 92 kB 4.8 MB/s eta 0:00:01\r\u001b[K     |██████████████████▊             | 102 kB 5.3 MB/s eta 0:00:01\r\u001b[K     |████████████████████▋           | 112 kB 5.3 MB/s eta 0:00:01\r\u001b[K     |██████████████████████▌         | 122 kB 5.3 MB/s eta 0:00:01\r\u001b[K     |████████████████████████▎       | 133 kB 5.3 MB/s eta 0:00:01\r\u001b[K     |██████████████████████████▏     | 143 kB 5.3 MB/s eta 0:00:01\r\u001b[K     |████████████████████████████    | 153 kB 5.3 MB/s eta 0:00:01\r\u001b[K     |██████████████████████████████  | 163 kB 5.3 MB/s eta 0:00:01\r\u001b[K     |███████████████████████████████▉| 174 kB 5.3 MB/s eta 0:00:01\r\u001b[K     |████████████████████████████████| 175 kB 5.3 MB/s \n",
            "\u001b[33mWARNING: aif360 0.4.0 does not provide the extra 'lfr'\u001b[0m\n",
            "\u001b[?25hRequirement already satisfied: numpy>=1.16 in /usr/local/lib/python3.7/dist-packages (from aif360[LFR]) (1.21.6)\n",
            "Requirement already satisfied: matplotlib in /usr/local/lib/python3.7/dist-packages (from aif360[LFR]) (3.2.2)\n",
            "Collecting tempeh\n",
            "  Downloading tempeh-0.1.12-py3-none-any.whl (39 kB)\n",
            "Requirement already satisfied: scipy<1.6.0,>=1.2.0 in /usr/local/lib/python3.7/dist-packages (from aif360[LFR]) (1.4.1)\n",
            "Requirement already satisfied: pandas>=0.24.0 in /usr/local/lib/python3.7/dist-packages (from aif360[LFR]) (1.3.5)\n",
            "Requirement already satisfied: scikit-learn>=0.22.1 in /usr/local/lib/python3.7/dist-packages (from aif360[LFR]) (1.0.2)\n",
            "Requirement already satisfied: pytz>=2017.3 in /usr/local/lib/python3.7/dist-packages (from pandas>=0.24.0->aif360[LFR]) (2022.1)\n",
            "Requirement already satisfied: python-dateutil>=2.7.3 in /usr/local/lib/python3.7/dist-packages (from pandas>=0.24.0->aif360[LFR]) (2.8.2)\n",
            "Requirement already satisfied: six>=1.5 in /usr/local/lib/python3.7/dist-packages (from python-dateutil>=2.7.3->pandas>=0.24.0->aif360[LFR]) (1.15.0)\n",
            "Requirement already satisfied: threadpoolctl>=2.0.0 in /usr/local/lib/python3.7/dist-packages (from scikit-learn>=0.22.1->aif360[LFR]) (3.1.0)\n",
            "Requirement already satisfied: joblib>=0.11 in /usr/local/lib/python3.7/dist-packages (from scikit-learn>=0.22.1->aif360[LFR]) (1.1.0)\n",
            "Requirement already satisfied: cycler>=0.10 in /usr/local/lib/python3.7/dist-packages (from matplotlib->aif360[LFR]) (0.11.0)\n",
            "Requirement already satisfied: pyparsing!=2.0.4,!=2.1.2,!=2.1.6,>=2.0.1 in /usr/local/lib/python3.7/dist-packages (from matplotlib->aif360[LFR]) (3.0.8)\n",
            "Requirement already satisfied: kiwisolver>=1.0.1 in /usr/local/lib/python3.7/dist-packages (from matplotlib->aif360[LFR]) (1.4.2)\n",
            "Requirement already satisfied: typing-extensions in /usr/local/lib/python3.7/dist-packages (from kiwisolver>=1.0.1->matplotlib->aif360[LFR]) (4.2.0)\n",
            "Collecting memory-profiler\n",
            "  Downloading memory_profiler-0.60.0.tar.gz (38 kB)\n",
            "Collecting shap\n",
            "  Downloading shap-0.40.0-cp37-cp37m-manylinux2010_x86_64.whl (564 kB)\n",
            "\u001b[K     |████████████████████████████████| 564 kB 32.7 MB/s \n",
            "\u001b[?25hRequirement already satisfied: pytest in /usr/local/lib/python3.7/dist-packages (from tempeh->aif360[LFR]) (3.6.4)\n",
            "Requirement already satisfied: requests in /usr/local/lib/python3.7/dist-packages (from tempeh->aif360[LFR]) (2.23.0)\n",
            "Requirement already satisfied: psutil in /usr/local/lib/python3.7/dist-packages (from memory-profiler->tempeh->aif360[LFR]) (5.4.8)\n",
            "Requirement already satisfied: pluggy<0.8,>=0.5 in /usr/local/lib/python3.7/dist-packages (from pytest->tempeh->aif360[LFR]) (0.7.1)\n",
            "Requirement already satisfied: py>=1.5.0 in /usr/local/lib/python3.7/dist-packages (from pytest->tempeh->aif360[LFR]) (1.11.0)\n",
            "Requirement already satisfied: setuptools in /usr/local/lib/python3.7/dist-packages (from pytest->tempeh->aif360[LFR]) (57.4.0)\n",
            "Requirement already satisfied: more-itertools>=4.0.0 in /usr/local/lib/python3.7/dist-packages (from pytest->tempeh->aif360[LFR]) (8.12.0)\n",
            "Requirement already satisfied: attrs>=17.4.0 in /usr/local/lib/python3.7/dist-packages (from pytest->tempeh->aif360[LFR]) (21.4.0)\n",
            "Requirement already satisfied: atomicwrites>=1.0 in /usr/local/lib/python3.7/dist-packages (from pytest->tempeh->aif360[LFR]) (1.4.0)\n",
            "Requirement already satisfied: certifi>=2017.4.17 in /usr/local/lib/python3.7/dist-packages (from requests->tempeh->aif360[LFR]) (2021.10.8)\n",
            "Requirement already satisfied: chardet<4,>=3.0.2 in /usr/local/lib/python3.7/dist-packages (from requests->tempeh->aif360[LFR]) (3.0.4)\n",
            "Requirement already satisfied: urllib3!=1.25.0,!=1.25.1,<1.26,>=1.21.1 in /usr/local/lib/python3.7/dist-packages (from requests->tempeh->aif360[LFR]) (1.24.3)\n",
            "Requirement already satisfied: idna<3,>=2.5 in /usr/local/lib/python3.7/dist-packages (from requests->tempeh->aif360[LFR]) (2.10)\n",
            "Requirement already satisfied: tqdm>4.25.0 in /usr/local/lib/python3.7/dist-packages (from shap->tempeh->aif360[LFR]) (4.64.0)\n",
            "Requirement already satisfied: cloudpickle in /usr/local/lib/python3.7/dist-packages (from shap->tempeh->aif360[LFR]) (1.3.0)\n",
            "Collecting slicer==0.0.7\n",
            "  Downloading slicer-0.0.7-py3-none-any.whl (14 kB)\n",
            "Requirement already satisfied: packaging>20.9 in /usr/local/lib/python3.7/dist-packages (from shap->tempeh->aif360[LFR]) (21.3)\n",
            "Requirement already satisfied: numba in /usr/local/lib/python3.7/dist-packages (from shap->tempeh->aif360[LFR]) (0.51.2)\n",
            "Requirement already satisfied: llvmlite<0.35,>=0.34.0.dev0 in /usr/local/lib/python3.7/dist-packages (from numba->shap->tempeh->aif360[LFR]) (0.34.0)\n",
            "Building wheels for collected packages: memory-profiler\n",
            "  Building wheel for memory-profiler (setup.py) ... \u001b[?25l\u001b[?25hdone\n",
            "  Created wheel for memory-profiler: filename=memory_profiler-0.60.0-py3-none-any.whl size=31284 sha256=b96f302c32a9d0121af2656cc413eea5eed8c88fd9094f489fa8bc3602963348\n",
            "  Stored in directory: /root/.cache/pip/wheels/67/2b/fb/326e30d638c538e69a5eb0aa47f4223d979f502bbdb403950f\n",
            "Successfully built memory-profiler\n",
            "Installing collected packages: slicer, shap, memory-profiler, tempeh, aif360\n",
            "Successfully installed aif360-0.4.0 memory-profiler-0.60.0 shap-0.40.0 slicer-0.0.7 tempeh-0.1.12\n"
          ]
        }
      ]
    },
    {
      "cell_type": "code",
      "metadata": {
        "colab": {
          "base_uri": "https://localhost:8080/"
        },
        "id": "DS0AD740qd5T",
        "outputId": "96b31f0b-9702-4b1d-8e0f-5dcea7f8213c"
      },
      "source": [
        "cd /usr/local/lib/python3.7/dist-packages/aif360/data/raw/adult"
      ],
      "execution_count": null,
      "outputs": [
        {
          "output_type": "stream",
          "name": "stdout",
          "text": [
            "/usr/local/lib/python3.7/dist-packages/aif360/data/raw/adult\n"
          ]
        }
      ]
    },
    {
      "cell_type": "code",
      "metadata": {
        "id": "B9dbNroSqfSe",
        "colab": {
          "base_uri": "https://localhost:8080/"
        },
        "outputId": "5184ee23-d9da-447d-953e-ce5506f70f4c"
      },
      "source": [
        "!wget https://archive.ics.uci.edu/ml/machine-learning-databases/adult/adult.data\n",
        "!wget https://archive.ics.uci.edu/ml/machine-learning-databases/adult/adult.names\n",
        "!wget https://archive.ics.uci.edu/ml/machine-learning-databases/adult/adult.test"
      ],
      "execution_count": null,
      "outputs": [
        {
          "output_type": "stream",
          "name": "stdout",
          "text": [
            "--2022-05-12 18:04:16--  https://archive.ics.uci.edu/ml/machine-learning-databases/adult/adult.data\n",
            "Resolving archive.ics.uci.edu (archive.ics.uci.edu)... 128.195.10.252\n",
            "Connecting to archive.ics.uci.edu (archive.ics.uci.edu)|128.195.10.252|:443... connected.\n",
            "HTTP request sent, awaiting response... 200 OK\n",
            "Length: 3974305 (3.8M) [application/x-httpd-php]\n",
            "Saving to: ‘adult.data’\n",
            "\n",
            "adult.data          100%[===================>]   3.79M  9.18MB/s    in 0.4s    \n",
            "\n",
            "2022-05-12 18:04:16 (9.18 MB/s) - ‘adult.data’ saved [3974305/3974305]\n",
            "\n",
            "--2022-05-12 18:04:16--  https://archive.ics.uci.edu/ml/machine-learning-databases/adult/adult.names\n",
            "Resolving archive.ics.uci.edu (archive.ics.uci.edu)... 128.195.10.252\n",
            "Connecting to archive.ics.uci.edu (archive.ics.uci.edu)|128.195.10.252|:443... connected.\n",
            "HTTP request sent, awaiting response... 200 OK\n",
            "Length: 5229 (5.1K) [application/x-httpd-php]\n",
            "Saving to: ‘adult.names’\n",
            "\n",
            "adult.names         100%[===================>]   5.11K  --.-KB/s    in 0s      \n",
            "\n",
            "2022-05-12 18:04:17 (67.9 MB/s) - ‘adult.names’ saved [5229/5229]\n",
            "\n",
            "--2022-05-12 18:04:17--  https://archive.ics.uci.edu/ml/machine-learning-databases/adult/adult.test\n",
            "Resolving archive.ics.uci.edu (archive.ics.uci.edu)... 128.195.10.252\n",
            "Connecting to archive.ics.uci.edu (archive.ics.uci.edu)|128.195.10.252|:443... connected.\n",
            "HTTP request sent, awaiting response... 200 OK\n",
            "Length: 2003153 (1.9M) [application/x-httpd-php]\n",
            "Saving to: ‘adult.test’\n",
            "\n",
            "adult.test          100%[===================>]   1.91M  5.49MB/s    in 0.3s    \n",
            "\n",
            "2022-05-12 18:04:17 (5.49 MB/s) - ‘adult.test’ saved [2003153/2003153]\n",
            "\n"
          ]
        }
      ]
    },
    {
      "cell_type": "code",
      "source": [
        "!pip install fairlearn"
      ],
      "metadata": {
        "colab": {
          "base_uri": "https://localhost:8080/"
        },
        "id": "4LuB0c5LxxcV",
        "outputId": "c4d092b8-c634-4851-9465-ad9dba8b951f"
      },
      "execution_count": null,
      "outputs": [
        {
          "output_type": "stream",
          "name": "stdout",
          "text": [
            "Collecting fairlearn\n",
            "  Downloading fairlearn-0.7.0-py3-none-any.whl (177 kB)\n",
            "\u001b[?25l\r\u001b[K     |█▉                              | 10 kB 14.5 MB/s eta 0:00:01\r\u001b[K     |███▊                            | 20 kB 16.0 MB/s eta 0:00:01\r\u001b[K     |█████▌                          | 30 kB 10.5 MB/s eta 0:00:01\r\u001b[K     |███████▍                        | 40 kB 9.1 MB/s eta 0:00:01\r\u001b[K     |█████████▎                      | 51 kB 4.8 MB/s eta 0:00:01\r\u001b[K     |███████████                     | 61 kB 5.6 MB/s eta 0:00:01\r\u001b[K     |█████████████                   | 71 kB 5.7 MB/s eta 0:00:01\r\u001b[K     |██████████████▊                 | 81 kB 5.6 MB/s eta 0:00:01\r\u001b[K     |████████████████▋               | 92 kB 6.1 MB/s eta 0:00:01\r\u001b[K     |██████████████████▌             | 102 kB 5.3 MB/s eta 0:00:01\r\u001b[K     |████████████████████▎           | 112 kB 5.3 MB/s eta 0:00:01\r\u001b[K     |██████████████████████▏         | 122 kB 5.3 MB/s eta 0:00:01\r\u001b[K     |████████████████████████        | 133 kB 5.3 MB/s eta 0:00:01\r\u001b[K     |█████████████████████████▉      | 143 kB 5.3 MB/s eta 0:00:01\r\u001b[K     |███████████████████████████▊    | 153 kB 5.3 MB/s eta 0:00:01\r\u001b[K     |█████████████████████████████▌  | 163 kB 5.3 MB/s eta 0:00:01\r\u001b[K     |███████████████████████████████▍| 174 kB 5.3 MB/s eta 0:00:01\r\u001b[K     |████████████████████████████████| 177 kB 5.3 MB/s \n",
            "\u001b[?25hRequirement already satisfied: pandas>=0.25.1 in /usr/local/lib/python3.7/dist-packages (from fairlearn) (1.3.5)\n",
            "Requirement already satisfied: numpy>=1.17.2 in /usr/local/lib/python3.7/dist-packages (from fairlearn) (1.21.6)\n",
            "Requirement already satisfied: scipy>=1.4.1 in /usr/local/lib/python3.7/dist-packages (from fairlearn) (1.4.1)\n",
            "Requirement already satisfied: scikit-learn>=0.22.1 in /usr/local/lib/python3.7/dist-packages (from fairlearn) (1.0.2)\n",
            "Requirement already satisfied: python-dateutil>=2.7.3 in /usr/local/lib/python3.7/dist-packages (from pandas>=0.25.1->fairlearn) (2.8.2)\n",
            "Requirement already satisfied: pytz>=2017.3 in /usr/local/lib/python3.7/dist-packages (from pandas>=0.25.1->fairlearn) (2022.1)\n",
            "Requirement already satisfied: six>=1.5 in /usr/local/lib/python3.7/dist-packages (from python-dateutil>=2.7.3->pandas>=0.25.1->fairlearn) (1.15.0)\n",
            "Requirement already satisfied: joblib>=0.11 in /usr/local/lib/python3.7/dist-packages (from scikit-learn>=0.22.1->fairlearn) (1.1.0)\n",
            "Requirement already satisfied: threadpoolctl>=2.0.0 in /usr/local/lib/python3.7/dist-packages (from scikit-learn>=0.22.1->fairlearn) (3.1.0)\n",
            "Installing collected packages: fairlearn\n",
            "Successfully installed fairlearn-0.7.0\n"
          ]
        }
      ]
    },
    {
      "cell_type": "code",
      "metadata": {
        "id": "zPJDsQtqxaLn"
      },
      "source": [
        "#Importing the necessary libraries.\n",
        "import pandas as pd\n",
        "import numpy as np\n",
        "from aif360.datasets import AdultDataset\n",
        "from aif360.algorithms.preprocessing.optim_preproc_helpers.data_preproc_functions import load_preproc_data_adult\n",
        "from aif360.algorithms.preprocessing.optim_preproc_helpers.data_preproc_functions import load_preproc_data_german\n",
        "from aif360.metrics import ClassificationMetric\n",
        "from aif360.algorithms.preprocessing.reweighing import Reweighing\n",
        "import pdb\n",
        "from sklearn.preprocessing import StandardScaler , MinMaxScaler\n",
        "from sklearn.linear_model import LogisticRegression\n",
        "from sklearn.model_selection import *\n",
        "import matplotlib.pyplot as plt\n",
        "\n",
        "np.random.seed(0)"
      ],
      "execution_count": null,
      "outputs": []
    },
    {
      "cell_type": "markdown",
      "source": [
        "# Task 1 Adult Data"
      ],
      "metadata": {
        "id": "mZO7CdIErxde"
      }
    },
    {
      "cell_type": "code",
      "source": [
        "pd.read_csv('adult.data')"
      ],
      "metadata": {
        "colab": {
          "base_uri": "https://localhost:8080/",
          "height": 424
        },
        "id": "kHbSlmzvzAjf",
        "outputId": "dc3bd648-a605-438c-9547-8c81bbc67cfb"
      },
      "execution_count": null,
      "outputs": [
        {
          "output_type": "execute_result",
          "data": {
            "text/plain": [
              "       39          State-gov   77516    Bachelors   13        Never-married  \\\n",
              "0      50   Self-emp-not-inc   83311    Bachelors   13   Married-civ-spouse   \n",
              "1      38            Private  215646      HS-grad    9             Divorced   \n",
              "2      53            Private  234721         11th    7   Married-civ-spouse   \n",
              "3      28            Private  338409    Bachelors   13   Married-civ-spouse   \n",
              "4      37            Private  284582      Masters   14   Married-civ-spouse   \n",
              "...    ..                ...     ...          ...  ...                  ...   \n",
              "32555  27            Private  257302   Assoc-acdm   12   Married-civ-spouse   \n",
              "32556  40            Private  154374      HS-grad    9   Married-civ-spouse   \n",
              "32557  58            Private  151910      HS-grad    9              Widowed   \n",
              "32558  22            Private  201490      HS-grad    9        Never-married   \n",
              "32559  52       Self-emp-inc  287927      HS-grad    9   Married-civ-spouse   \n",
              "\n",
              "             Adm-clerical   Not-in-family   White     Male   2174   0   40  \\\n",
              "0         Exec-managerial         Husband   White     Male      0   0   13   \n",
              "1       Handlers-cleaners   Not-in-family   White     Male      0   0   40   \n",
              "2       Handlers-cleaners         Husband   Black     Male      0   0   40   \n",
              "3          Prof-specialty            Wife   Black   Female      0   0   40   \n",
              "4         Exec-managerial            Wife   White   Female      0   0   40   \n",
              "...                   ...             ...     ...      ...    ...  ..  ...   \n",
              "32555        Tech-support            Wife   White   Female      0   0   38   \n",
              "32556   Machine-op-inspct         Husband   White     Male      0   0   40   \n",
              "32557        Adm-clerical       Unmarried   White   Female      0   0   40   \n",
              "32558        Adm-clerical       Own-child   White     Male      0   0   20   \n",
              "32559     Exec-managerial            Wife   White   Female  15024   0   40   \n",
              "\n",
              "        United-States   <=50K  \n",
              "0       United-States   <=50K  \n",
              "1       United-States   <=50K  \n",
              "2       United-States   <=50K  \n",
              "3                Cuba   <=50K  \n",
              "4       United-States   <=50K  \n",
              "...               ...     ...  \n",
              "32555   United-States   <=50K  \n",
              "32556   United-States    >50K  \n",
              "32557   United-States   <=50K  \n",
              "32558   United-States   <=50K  \n",
              "32559   United-States    >50K  \n",
              "\n",
              "[32560 rows x 15 columns]"
            ],
            "text/html": [
              "\n",
              "  <div id=\"df-48f6a4c4-b81f-45b7-9dd6-df04a5214e2e\">\n",
              "    <div class=\"colab-df-container\">\n",
              "      <div>\n",
              "<style scoped>\n",
              "    .dataframe tbody tr th:only-of-type {\n",
              "        vertical-align: middle;\n",
              "    }\n",
              "\n",
              "    .dataframe tbody tr th {\n",
              "        vertical-align: top;\n",
              "    }\n",
              "\n",
              "    .dataframe thead th {\n",
              "        text-align: right;\n",
              "    }\n",
              "</style>\n",
              "<table border=\"1\" class=\"dataframe\">\n",
              "  <thead>\n",
              "    <tr style=\"text-align: right;\">\n",
              "      <th></th>\n",
              "      <th>39</th>\n",
              "      <th>State-gov</th>\n",
              "      <th>77516</th>\n",
              "      <th>Bachelors</th>\n",
              "      <th>13</th>\n",
              "      <th>Never-married</th>\n",
              "      <th>Adm-clerical</th>\n",
              "      <th>Not-in-family</th>\n",
              "      <th>White</th>\n",
              "      <th>Male</th>\n",
              "      <th>2174</th>\n",
              "      <th>0</th>\n",
              "      <th>40</th>\n",
              "      <th>United-States</th>\n",
              "      <th>&lt;=50K</th>\n",
              "    </tr>\n",
              "  </thead>\n",
              "  <tbody>\n",
              "    <tr>\n",
              "      <th>0</th>\n",
              "      <td>50</td>\n",
              "      <td>Self-emp-not-inc</td>\n",
              "      <td>83311</td>\n",
              "      <td>Bachelors</td>\n",
              "      <td>13</td>\n",
              "      <td>Married-civ-spouse</td>\n",
              "      <td>Exec-managerial</td>\n",
              "      <td>Husband</td>\n",
              "      <td>White</td>\n",
              "      <td>Male</td>\n",
              "      <td>0</td>\n",
              "      <td>0</td>\n",
              "      <td>13</td>\n",
              "      <td>United-States</td>\n",
              "      <td>&lt;=50K</td>\n",
              "    </tr>\n",
              "    <tr>\n",
              "      <th>1</th>\n",
              "      <td>38</td>\n",
              "      <td>Private</td>\n",
              "      <td>215646</td>\n",
              "      <td>HS-grad</td>\n",
              "      <td>9</td>\n",
              "      <td>Divorced</td>\n",
              "      <td>Handlers-cleaners</td>\n",
              "      <td>Not-in-family</td>\n",
              "      <td>White</td>\n",
              "      <td>Male</td>\n",
              "      <td>0</td>\n",
              "      <td>0</td>\n",
              "      <td>40</td>\n",
              "      <td>United-States</td>\n",
              "      <td>&lt;=50K</td>\n",
              "    </tr>\n",
              "    <tr>\n",
              "      <th>2</th>\n",
              "      <td>53</td>\n",
              "      <td>Private</td>\n",
              "      <td>234721</td>\n",
              "      <td>11th</td>\n",
              "      <td>7</td>\n",
              "      <td>Married-civ-spouse</td>\n",
              "      <td>Handlers-cleaners</td>\n",
              "      <td>Husband</td>\n",
              "      <td>Black</td>\n",
              "      <td>Male</td>\n",
              "      <td>0</td>\n",
              "      <td>0</td>\n",
              "      <td>40</td>\n",
              "      <td>United-States</td>\n",
              "      <td>&lt;=50K</td>\n",
              "    </tr>\n",
              "    <tr>\n",
              "      <th>3</th>\n",
              "      <td>28</td>\n",
              "      <td>Private</td>\n",
              "      <td>338409</td>\n",
              "      <td>Bachelors</td>\n",
              "      <td>13</td>\n",
              "      <td>Married-civ-spouse</td>\n",
              "      <td>Prof-specialty</td>\n",
              "      <td>Wife</td>\n",
              "      <td>Black</td>\n",
              "      <td>Female</td>\n",
              "      <td>0</td>\n",
              "      <td>0</td>\n",
              "      <td>40</td>\n",
              "      <td>Cuba</td>\n",
              "      <td>&lt;=50K</td>\n",
              "    </tr>\n",
              "    <tr>\n",
              "      <th>4</th>\n",
              "      <td>37</td>\n",
              "      <td>Private</td>\n",
              "      <td>284582</td>\n",
              "      <td>Masters</td>\n",
              "      <td>14</td>\n",
              "      <td>Married-civ-spouse</td>\n",
              "      <td>Exec-managerial</td>\n",
              "      <td>Wife</td>\n",
              "      <td>White</td>\n",
              "      <td>Female</td>\n",
              "      <td>0</td>\n",
              "      <td>0</td>\n",
              "      <td>40</td>\n",
              "      <td>United-States</td>\n",
              "      <td>&lt;=50K</td>\n",
              "    </tr>\n",
              "    <tr>\n",
              "      <th>...</th>\n",
              "      <td>...</td>\n",
              "      <td>...</td>\n",
              "      <td>...</td>\n",
              "      <td>...</td>\n",
              "      <td>...</td>\n",
              "      <td>...</td>\n",
              "      <td>...</td>\n",
              "      <td>...</td>\n",
              "      <td>...</td>\n",
              "      <td>...</td>\n",
              "      <td>...</td>\n",
              "      <td>...</td>\n",
              "      <td>...</td>\n",
              "      <td>...</td>\n",
              "      <td>...</td>\n",
              "    </tr>\n",
              "    <tr>\n",
              "      <th>32555</th>\n",
              "      <td>27</td>\n",
              "      <td>Private</td>\n",
              "      <td>257302</td>\n",
              "      <td>Assoc-acdm</td>\n",
              "      <td>12</td>\n",
              "      <td>Married-civ-spouse</td>\n",
              "      <td>Tech-support</td>\n",
              "      <td>Wife</td>\n",
              "      <td>White</td>\n",
              "      <td>Female</td>\n",
              "      <td>0</td>\n",
              "      <td>0</td>\n",
              "      <td>38</td>\n",
              "      <td>United-States</td>\n",
              "      <td>&lt;=50K</td>\n",
              "    </tr>\n",
              "    <tr>\n",
              "      <th>32556</th>\n",
              "      <td>40</td>\n",
              "      <td>Private</td>\n",
              "      <td>154374</td>\n",
              "      <td>HS-grad</td>\n",
              "      <td>9</td>\n",
              "      <td>Married-civ-spouse</td>\n",
              "      <td>Machine-op-inspct</td>\n",
              "      <td>Husband</td>\n",
              "      <td>White</td>\n",
              "      <td>Male</td>\n",
              "      <td>0</td>\n",
              "      <td>0</td>\n",
              "      <td>40</td>\n",
              "      <td>United-States</td>\n",
              "      <td>&gt;50K</td>\n",
              "    </tr>\n",
              "    <tr>\n",
              "      <th>32557</th>\n",
              "      <td>58</td>\n",
              "      <td>Private</td>\n",
              "      <td>151910</td>\n",
              "      <td>HS-grad</td>\n",
              "      <td>9</td>\n",
              "      <td>Widowed</td>\n",
              "      <td>Adm-clerical</td>\n",
              "      <td>Unmarried</td>\n",
              "      <td>White</td>\n",
              "      <td>Female</td>\n",
              "      <td>0</td>\n",
              "      <td>0</td>\n",
              "      <td>40</td>\n",
              "      <td>United-States</td>\n",
              "      <td>&lt;=50K</td>\n",
              "    </tr>\n",
              "    <tr>\n",
              "      <th>32558</th>\n",
              "      <td>22</td>\n",
              "      <td>Private</td>\n",
              "      <td>201490</td>\n",
              "      <td>HS-grad</td>\n",
              "      <td>9</td>\n",
              "      <td>Never-married</td>\n",
              "      <td>Adm-clerical</td>\n",
              "      <td>Own-child</td>\n",
              "      <td>White</td>\n",
              "      <td>Male</td>\n",
              "      <td>0</td>\n",
              "      <td>0</td>\n",
              "      <td>20</td>\n",
              "      <td>United-States</td>\n",
              "      <td>&lt;=50K</td>\n",
              "    </tr>\n",
              "    <tr>\n",
              "      <th>32559</th>\n",
              "      <td>52</td>\n",
              "      <td>Self-emp-inc</td>\n",
              "      <td>287927</td>\n",
              "      <td>HS-grad</td>\n",
              "      <td>9</td>\n",
              "      <td>Married-civ-spouse</td>\n",
              "      <td>Exec-managerial</td>\n",
              "      <td>Wife</td>\n",
              "      <td>White</td>\n",
              "      <td>Female</td>\n",
              "      <td>15024</td>\n",
              "      <td>0</td>\n",
              "      <td>40</td>\n",
              "      <td>United-States</td>\n",
              "      <td>&gt;50K</td>\n",
              "    </tr>\n",
              "  </tbody>\n",
              "</table>\n",
              "<p>32560 rows × 15 columns</p>\n",
              "</div>\n",
              "      <button class=\"colab-df-convert\" onclick=\"convertToInteractive('df-48f6a4c4-b81f-45b7-9dd6-df04a5214e2e')\"\n",
              "              title=\"Convert this dataframe to an interactive table.\"\n",
              "              style=\"display:none;\">\n",
              "        \n",
              "  <svg xmlns=\"http://www.w3.org/2000/svg\" height=\"24px\"viewBox=\"0 0 24 24\"\n",
              "       width=\"24px\">\n",
              "    <path d=\"M0 0h24v24H0V0z\" fill=\"none\"/>\n",
              "    <path d=\"M18.56 5.44l.94 2.06.94-2.06 2.06-.94-2.06-.94-.94-2.06-.94 2.06-2.06.94zm-11 1L8.5 8.5l.94-2.06 2.06-.94-2.06-.94L8.5 2.5l-.94 2.06-2.06.94zm10 10l.94 2.06.94-2.06 2.06-.94-2.06-.94-.94-2.06-.94 2.06-2.06.94z\"/><path d=\"M17.41 7.96l-1.37-1.37c-.4-.4-.92-.59-1.43-.59-.52 0-1.04.2-1.43.59L10.3 9.45l-7.72 7.72c-.78.78-.78 2.05 0 2.83L4 21.41c.39.39.9.59 1.41.59.51 0 1.02-.2 1.41-.59l7.78-7.78 2.81-2.81c.8-.78.8-2.07 0-2.86zM5.41 20L4 18.59l7.72-7.72 1.47 1.35L5.41 20z\"/>\n",
              "  </svg>\n",
              "      </button>\n",
              "      \n",
              "  <style>\n",
              "    .colab-df-container {\n",
              "      display:flex;\n",
              "      flex-wrap:wrap;\n",
              "      gap: 12px;\n",
              "    }\n",
              "\n",
              "    .colab-df-convert {\n",
              "      background-color: #E8F0FE;\n",
              "      border: none;\n",
              "      border-radius: 50%;\n",
              "      cursor: pointer;\n",
              "      display: none;\n",
              "      fill: #1967D2;\n",
              "      height: 32px;\n",
              "      padding: 0 0 0 0;\n",
              "      width: 32px;\n",
              "    }\n",
              "\n",
              "    .colab-df-convert:hover {\n",
              "      background-color: #E2EBFA;\n",
              "      box-shadow: 0px 1px 2px rgba(60, 64, 67, 0.3), 0px 1px 3px 1px rgba(60, 64, 67, 0.15);\n",
              "      fill: #174EA6;\n",
              "    }\n",
              "\n",
              "    [theme=dark] .colab-df-convert {\n",
              "      background-color: #3B4455;\n",
              "      fill: #D2E3FC;\n",
              "    }\n",
              "\n",
              "    [theme=dark] .colab-df-convert:hover {\n",
              "      background-color: #434B5C;\n",
              "      box-shadow: 0px 1px 3px 1px rgba(0, 0, 0, 0.15);\n",
              "      filter: drop-shadow(0px 1px 2px rgba(0, 0, 0, 0.3));\n",
              "      fill: #FFFFFF;\n",
              "    }\n",
              "  </style>\n",
              "\n",
              "      <script>\n",
              "        const buttonEl =\n",
              "          document.querySelector('#df-48f6a4c4-b81f-45b7-9dd6-df04a5214e2e button.colab-df-convert');\n",
              "        buttonEl.style.display =\n",
              "          google.colab.kernel.accessAllowed ? 'block' : 'none';\n",
              "\n",
              "        async function convertToInteractive(key) {\n",
              "          const element = document.querySelector('#df-48f6a4c4-b81f-45b7-9dd6-df04a5214e2e');\n",
              "          const dataTable =\n",
              "            await google.colab.kernel.invokeFunction('convertToInteractive',\n",
              "                                                     [key], {});\n",
              "          if (!dataTable) return;\n",
              "\n",
              "          const docLinkHtml = 'Like what you see? Visit the ' +\n",
              "            '<a target=\"_blank\" href=https://colab.research.google.com/notebooks/data_table.ipynb>data table notebook</a>'\n",
              "            + ' to learn more about interactive tables.';\n",
              "          element.innerHTML = '';\n",
              "          dataTable['output_type'] = 'display_data';\n",
              "          await google.colab.output.renderOutput(dataTable, element);\n",
              "          const docLink = document.createElement('div');\n",
              "          docLink.innerHTML = docLinkHtml;\n",
              "          element.appendChild(docLink);\n",
              "        }\n",
              "      </script>\n",
              "    </div>\n",
              "  </div>\n",
              "  "
            ]
          },
          "metadata": {},
          "execution_count": 6
        }
      ]
    },
    {
      "cell_type": "code",
      "metadata": {
        "colab": {
          "base_uri": "https://localhost:8080/"
        },
        "id": "rDkHVXGlxhs1",
        "outputId": "37765ee1-949b-4610-fef7-664130db98a6"
      },
      "source": [
        "#Setting the privilaged and unprevilaged groups.\n",
        "\n",
        "privileged_groups = [{'sex': 1}]\n",
        "unprivileged_groups = [{'sex': 0}]\n",
        "dataset_orig = load_preproc_data_adult(['sex'])\n",
        "\n",
        "#split between training and test set.\n",
        "train, test = dataset_orig.split([0.7], shuffle=True)\n",
        "print(\"training data size\", train.features.shape)\n",
        "print(\"dataset feature names\", train.feature_names)\n"
      ],
      "execution_count": null,
      "outputs": [
        {
          "output_type": "stream",
          "name": "stdout",
          "text": [
            "training data size (34189, 18)\n",
            "dataset feature names ['race', 'sex', 'Age (decade)=10', 'Age (decade)=20', 'Age (decade)=30', 'Age (decade)=40', 'Age (decade)=50', 'Age (decade)=60', 'Age (decade)=>=70', 'Education Years=6', 'Education Years=7', 'Education Years=8', 'Education Years=9', 'Education Years=10', 'Education Years=11', 'Education Years=12', 'Education Years=<6', 'Education Years=>12']\n"
          ]
        }
      ]
    },
    {
      "cell_type": "code",
      "source": [
        "dataset_orig"
      ],
      "metadata": {
        "colab": {
          "base_uri": "https://localhost:8080/"
        },
        "id": "nydaBo8_351p",
        "outputId": "c7322766-1aab-4b1d-9db2-b711d9e7a00f"
      },
      "execution_count": null,
      "outputs": [
        {
          "output_type": "execute_result",
          "data": {
            "text/plain": [
              "               instance weights features                                      \\\n",
              "                                         protected attribute                   \n",
              "                                    race                 sex Age (decade)=10   \n",
              "instance names                                                                 \n",
              "0                           1.0      0.0                 1.0             0.0   \n",
              "1                           1.0      1.0                 1.0             0.0   \n",
              "2                           1.0      1.0                 1.0             0.0   \n",
              "3                           1.0      0.0                 1.0             0.0   \n",
              "4                           1.0      1.0                 0.0             1.0   \n",
              "...                         ...      ...                 ...             ...   \n",
              "48837                       1.0      1.0                 0.0             0.0   \n",
              "48838                       1.0      1.0                 1.0             0.0   \n",
              "48839                       1.0      1.0                 0.0             0.0   \n",
              "48840                       1.0      1.0                 1.0             0.0   \n",
              "48841                       1.0      1.0                 0.0             0.0   \n",
              "\n",
              "                                                                \\\n",
              "                                                                 \n",
              "               Age (decade)=20 Age (decade)=30 Age (decade)=40   \n",
              "instance names                                                   \n",
              "0                          1.0             0.0             0.0   \n",
              "1                          0.0             1.0             0.0   \n",
              "2                          1.0             0.0             0.0   \n",
              "3                          0.0             0.0             1.0   \n",
              "4                          0.0             0.0             0.0   \n",
              "...                        ...             ...             ...   \n",
              "48837                      1.0             0.0             0.0   \n",
              "48838                      0.0             0.0             1.0   \n",
              "48839                      0.0             0.0             0.0   \n",
              "48840                      1.0             0.0             0.0   \n",
              "48841                      0.0             0.0             0.0   \n",
              "\n",
              "                                                                  \\\n",
              "                                                                   \n",
              "               Age (decade)=50 Age (decade)=60 Age (decade)=>=70   \n",
              "instance names                                                     \n",
              "0                          0.0             0.0               0.0   \n",
              "1                          0.0             0.0               0.0   \n",
              "2                          0.0             0.0               0.0   \n",
              "3                          0.0             0.0               0.0   \n",
              "4                          0.0             0.0               0.0   \n",
              "...                        ...             ...               ...   \n",
              "48837                      0.0             0.0               0.0   \n",
              "48838                      0.0             0.0               0.0   \n",
              "48839                      1.0             0.0               0.0   \n",
              "48840                      0.0             0.0               0.0   \n",
              "48841                      1.0             0.0               0.0   \n",
              "\n",
              "                                                                      \\\n",
              "                                                                       \n",
              "               Education Years=6 Education Years=7 Education Years=8   \n",
              "instance names                                                         \n",
              "0                            0.0               1.0               0.0   \n",
              "1                            0.0               0.0               0.0   \n",
              "2                            0.0               0.0               0.0   \n",
              "3                            0.0               0.0               0.0   \n",
              "4                            0.0               0.0               0.0   \n",
              "...                          ...               ...               ...   \n",
              "48837                        0.0               0.0               0.0   \n",
              "48838                        0.0               0.0               0.0   \n",
              "48839                        0.0               0.0               0.0   \n",
              "48840                        0.0               0.0               0.0   \n",
              "48841                        0.0               0.0               0.0   \n",
              "\n",
              "                                                                        \\\n",
              "                                                                         \n",
              "               Education Years=9 Education Years=10 Education Years=11   \n",
              "instance names                                                           \n",
              "0                            0.0                0.0                0.0   \n",
              "1                            1.0                0.0                0.0   \n",
              "2                            0.0                0.0                0.0   \n",
              "3                            0.0                1.0                0.0   \n",
              "4                            0.0                1.0                0.0   \n",
              "...                          ...                ...                ...   \n",
              "48837                        0.0                0.0                0.0   \n",
              "48838                        1.0                0.0                0.0   \n",
              "48839                        1.0                0.0                0.0   \n",
              "48840                        1.0                0.0                0.0   \n",
              "48841                        1.0                0.0                0.0   \n",
              "\n",
              "                                                                          \\\n",
              "                                                                           \n",
              "               Education Years=12 Education Years=<6 Education Years=>12   \n",
              "instance names                                                             \n",
              "0                             0.0                0.0                 0.0   \n",
              "1                             0.0                0.0                 0.0   \n",
              "2                             1.0                0.0                 0.0   \n",
              "3                             0.0                0.0                 0.0   \n",
              "4                             0.0                0.0                 0.0   \n",
              "...                           ...                ...                 ...   \n",
              "48837                         1.0                0.0                 0.0   \n",
              "48838                         0.0                0.0                 0.0   \n",
              "48839                         0.0                0.0                 0.0   \n",
              "48840                         0.0                0.0                 0.0   \n",
              "48841                         0.0                0.0                 0.0   \n",
              "\n",
              "               labels  \n",
              "                       \n",
              "                       \n",
              "instance names         \n",
              "0                 0.0  \n",
              "1                 0.0  \n",
              "2                 1.0  \n",
              "3                 1.0  \n",
              "4                 0.0  \n",
              "...               ...  \n",
              "48837             0.0  \n",
              "48838             1.0  \n",
              "48839             0.0  \n",
              "48840             0.0  \n",
              "48841             1.0  \n",
              "\n",
              "[48842 rows x 20 columns]"
            ]
          },
          "metadata": {},
          "execution_count": 8
        }
      ]
    },
    {
      "cell_type": "code",
      "source": [
        "#A custom cross validation function is defined which returns the avearage accuracy and average equal oppertunity fairness matric in a dictionary for each value of the 'C' value of the logistic regression.\n",
        "#By default the number of folds for cross validation is set as 5\n",
        "\n",
        "def  custom_cross_validation(train_obj,folds = 5,a=0, b=-10, c=15):\n",
        "\n",
        "\n",
        "  folds = 5 # number of folds to validate \n",
        "  kf = KFold(n_splits = folds, shuffle = True, random_state =1)#Setting random state so the folds created will be the same every time\n",
        "\n",
        "  #Creating the folds of the train objects and validation objects (5 folds each) for the validation purpose\n",
        "  train_folds = []\n",
        "  corresponding_validator_folds = []\n",
        "  for train_index,validator_index in kf.split(train_obj.features):#For each set of train index and the vlaidator index, taking the corresponding train and validation object and appending it to the train_folds and corresponding_validator folds list\n",
        "    train_folds.append(train_obj.subset(train_index))\n",
        "    corresponding_validator_folds.append(train_obj.subset(validator_index))\n",
        "\n",
        "\n",
        "  C_values = np.logspace(a,b,c) #values of the 'C' to be considered in log space\n",
        "\n",
        "  dict_ = {'accuracy': [], 'eq_opp_diff' : [] } #Dictionary defined to hold the average accuracy and fairness metric value for each 5 fold validation\n",
        "\n",
        "  for i in C_values:\n",
        "    model = LogisticRegression(solver='liblinear',random_state = 1, C = i)\n",
        "\n",
        "\n",
        "    Accuracy = []\n",
        "    \n",
        "    Eq_opp_diff = []\n",
        "    \n",
        "    \n",
        "    #training and validating in 5 folds\n",
        "    for fold in range(len(train_folds)):\n",
        "      scale_orig = StandardScaler()\n",
        "      X_train_ = scale_orig.fit_transform(train_folds[fold].features)\n",
        "      y_train_ = train_folds[fold].labels.ravel()\n",
        "\n",
        "      X_test_ = scale_orig.transform(corresponding_validator_folds[fold].features) \n",
        "      y_test_ = corresponding_validator_folds[fold].labels.ravel()\n",
        "      \n",
        "\n",
        "      model.fit(X_train_,y_train_)\n",
        "      predictions = model.predict(X_test_)\n",
        "      \n",
        "      test_pred_ = corresponding_validator_folds[fold].copy()\n",
        "      test_pred_.labels = predictions\n",
        "\n",
        "      accuracy = sum(predictions == y_test_)/len(y_test_)\n",
        "      Accuracy.append(accuracy)\n",
        "      \n",
        "    \n",
        "      #Classification metric object defined\n",
        "      metric = ClassificationMetric(corresponding_validator_folds[fold], test_pred_, unprivileged_groups=unprivileged_groups, privileged_groups=privileged_groups)\n",
        "\n",
        "    \n",
        "      Eq_opp_diff.append(metric.equal_opportunity_difference())\n",
        "\n",
        "    \n",
        "\n",
        "      \n",
        "      \n",
        "    #The lists are converted to numpy array so that directly mean can be calculated\n",
        "    Acc = np.asarray(Accuracy)\n",
        "  \n",
        "    eod = np.asarray(Eq_opp_diff)\n",
        "    \n",
        "    #Appending mean values of accuracy and fairness metric for each C value.\n",
        "    dict_['accuracy'].append(np.mean(Acc))\n",
        "    \n",
        "    dict_['eq_opp_diff'].append(np.mean(eod))\n",
        "\n",
        "\n",
        "  return dict_, C_values\n",
        "  \n"
      ],
      "metadata": {
        "id": "c_9s-X1IH29g"
      },
      "execution_count": null,
      "outputs": []
    },
    {
      "cell_type": "code",
      "source": [
        "dict_metric ,c_val = custom_cross_validation(train,folds = 5)#cross validating the data"
      ],
      "metadata": {
        "id": "HWiqjdNhqCY_"
      },
      "execution_count": null,
      "outputs": []
    },
    {
      "cell_type": "code",
      "source": [
        "#Creating plot for how accuracy and fairness varies with the 'C' values\n",
        "fig,ax = plt.subplots()\n",
        "ax.plot(c_val,dict_metric['accuracy'], color = 'green')\n",
        "plt.xscale('log')\n",
        "ax.set_xlabel('C Values', fontsize = 14)\n",
        "ax.set_ylabel('Accuracy',color = 'green', fontsize = 14)\n",
        "ax2 = ax.twinx()\n",
        "ax2.plot(c_val,dict_metric['eq_opp_diff'])\n",
        "ax2.set_ylabel('Fairness',color = 'blue', fontsize = 14)\n",
        "plt.title('Accuracy and Fairness v/s different C values', fontsize = 14)\n",
        "\n",
        "plt.show()\n",
        "\n"
      ],
      "metadata": {
        "colab": {
          "base_uri": "https://localhost:8080/",
          "height": 304
        },
        "id": "xr9XnyOMENnO",
        "outputId": "458e9dce-5cf0-40f8-c7f7-5d046a946c94"
      },
      "execution_count": null,
      "outputs": [
        {
          "output_type": "display_data",
          "data": {
            "text/plain": [
              "<Figure size 432x288 with 2 Axes>"
            ],
            "image/png": "[encoded data removed]"
          },
          "metadata": {
            "needs_background": "light"
          }
        }
      ]
    },
    {
      "cell_type": "code",
      "source": [
        "dict_metric"
      ],
      "metadata": {
        "colab": {
          "base_uri": "https://localhost:8080/"
        },
        "id": "FP4VKqAUJXCR",
        "outputId": "af5dcbd0-8912-413f-e005-42fda1884238"
      },
      "execution_count": null,
      "outputs": [
        {
          "output_type": "execute_result",
          "data": {
            "text/plain": [
              "{'accuracy': [0.8039427862340653,\n",
              "  0.8039427862340653,\n",
              "  0.8039427862340653,\n",
              "  0.8039427862340653,\n",
              "  0.8034163122281285,\n",
              "  0.7994090359549829,\n",
              "  0.7972154120883552,\n",
              "  0.7948462041975807,\n",
              "  0.7940564996055948,\n",
              "  0.7940564996055948,\n",
              "  0.7938517613780428,\n",
              "  0.7938517613780428,\n",
              "  0.7938517613780428,\n",
              "  0.7938517613780428,\n",
              "  0.7938517613780428],\n",
              " 'eq_opp_diff': [-0.4657143725487554,\n",
              "  -0.4657143725487554,\n",
              "  -0.4657143725487554,\n",
              "  -0.4657143725487554,\n",
              "  -0.45707589303768364,\n",
              "  -0.3360730649215088,\n",
              "  -0.243088609121628,\n",
              "  -0.23060303341214533,\n",
              "  -0.23646667151143017,\n",
              "  -0.23646667151143017,\n",
              "  -0.23831720531925935,\n",
              "  -0.23831720531925935,\n",
              "  -0.23831720531925935,\n",
              "  -0.23831720531925935,\n",
              "  -0.23831720531925935]}"
            ]
          },
          "metadata": {},
          "execution_count": 12
        }
      ]
    },
    {
      "cell_type": "code",
      "source": [
        "c_val[7]"
      ],
      "metadata": {
        "colab": {
          "base_uri": "https://localhost:8080/"
        },
        "id": "br7y_kWJMsZ0",
        "outputId": "96f787bd-de9a-4933-9e02-751f7d124243"
      },
      "execution_count": null,
      "outputs": [
        {
          "output_type": "execute_result",
          "data": {
            "text/plain": [
              "1e-05"
            ]
          },
          "metadata": {},
          "execution_count": 13
        }
      ]
    },
    {
      "cell_type": "markdown",
      "source": [
        "The model with highest accuracy has c value = 1,\n",
        "\n",
        "\n",
        "The model with highest fairness has c value = 0.00001"
      ],
      "metadata": {
        "id": "kBT8I4o0Lg0-"
      }
    },
    {
      "cell_type": "code",
      "source": [
        "#General function defined to train the model with the required parameter 'C'; returns accuracy and TPR difference(fairness)\n",
        "def test_hyper_par(x):\n",
        "  model = LogisticRegression(solver = 'liblinear', random_state = 1, C = x)\n",
        "\n",
        "  scale_orig = StandardScaler()\n",
        "  X_train = scale_orig.fit_transform(train.features)\n",
        "  y_train = train.labels.ravel()\n",
        "\n",
        "  X_test = scale_orig.transform(test.features) \n",
        "  y_test = test.labels.ravel()\n",
        "\n",
        "  model.fit(X_train,y_train)\n",
        "  predictions = model.predict(X_test)\n",
        "\n",
        "  test_pred = test.copy()\n",
        "  test_pred.labels = predictions\n",
        "\n",
        "  accuracy = sum(predictions==y_test)/len(y_test)\n",
        "\n",
        "  metric = ClassificationMetric(test, test_pred, unprivileged_groups=unprivileged_groups, privileged_groups=privileged_groups)\n",
        "\n",
        "  eq_opp_diff = (metric.equal_opportunity_difference())\n",
        "\n",
        "  return accuracy,eq_opp_diff\n"
      ],
      "metadata": {
        "id": "9BeOz1R-OZga"
      },
      "execution_count": null,
      "outputs": []
    },
    {
      "cell_type": "code",
      "source": [
        "#calculating accuracy and fairness(TPR difference) for the model with highest accuracy\n",
        "a,f = test_hyper_par(1)#passing C value corresponding to highest accuracy\n",
        "print('Accuracy : {} \\nFairness : {}'.format(a,f))"
      ],
      "metadata": {
        "colab": {
          "base_uri": "https://localhost:8080/"
        },
        "id": "18wSnrQ5PpGt",
        "outputId": "1aa04399-4a16-4d3d-d8a6-17080c468ecc"
      },
      "execution_count": null,
      "outputs": [
        {
          "output_type": "stream",
          "name": "stdout",
          "text": [
            "Accuracy : 0.8042039172865625 \n",
            "Fairness : -0.4414141414141414\n"
          ]
        }
      ]
    },
    {
      "cell_type": "code",
      "source": [
        "#Calculating accuracy and fairness(TPR difference) for the model with highest Fairness\n",
        "a,f = test_hyper_par(0.00001)#passing c value corresponding to highest fairness metric\n",
        "print('Accuracy : {} \\nFairness : {}'.format(a,f))\n"
      ],
      "metadata": {
        "colab": {
          "base_uri": "https://localhost:8080/"
        },
        "id": "RBAj1ZFT0zIc",
        "outputId": "f0e4fc82-fcc0-4f88-db21-3b5b4a5d4af5"
      },
      "execution_count": null,
      "outputs": [
        {
          "output_type": "stream",
          "name": "stdout",
          "text": [
            "Accuracy : 0.7975841124684365 \n",
            "Fairness : -0.2189742958035641\n"
          ]
        }
      ]
    },
    {
      "cell_type": "markdown",
      "source": [
        "# Task 2 Adult Data"
      ],
      "metadata": {
        "id": "nSR0uYF21uol"
      }
    },
    {
      "cell_type": "code",
      "source": [
        "#Instance weights before Reweighing\n",
        "train.instance_weights"
      ],
      "metadata": {
        "colab": {
          "base_uri": "https://localhost:8080/"
        },
        "id": "KjI-KDr41il8",
        "outputId": "f1cead69-d36f-4e13-888c-9806b39e791b"
      },
      "execution_count": null,
      "outputs": [
        {
          "output_type": "execute_result",
          "data": {
            "text/plain": [
              "array([1., 1., 1., ..., 1., 1., 1.])"
            ]
          },
          "metadata": {},
          "execution_count": 17
        }
      ]
    },
    {
      "cell_type": "code",
      "source": [
        "def  custom_cross_validation_with_reweighing(train_obj,folds = 5,a=0, b=-10, c=15):\n",
        "\n",
        "\n",
        "  folds = 5 # number of folds to validate \n",
        "  kf = KFold(n_splits = folds, shuffle = True, random_state =1)#Setting random state so the folds created will be the same every time\n",
        "\n",
        "  #Creating the folds of the train objects and validation objects (5 folds each) for the validation purpose\n",
        "  train_folds = []\n",
        "  corresponding_validator_folds = []\n",
        "  for train_index,validator_index in kf.split(train_obj.features):#For each set of train index and the vlaidator index, taking the corresponding train and validation object and appending it to the train_folds and corresponding_validator folds list\n",
        "    train_folds.append(train_obj.subset(train_index))\n",
        "    corresponding_validator_folds.append(train_obj.subset(validator_index))\n",
        "\n",
        "\n",
        "  C_values = np.logspace(a,b,c) #values of the 'C' to be considered in log space\n",
        "\n",
        "  dict_ = {'accuracy': [], 'eq_opp_diff' : [] } #Dictionary defined to hold the average accuracy and fairness metric value for each 5 fold validation\n",
        "\n",
        "  for i in C_values:\n",
        "    model = LogisticRegression(solver='liblinear',random_state = 1, C = i)\n",
        "\n",
        "\n",
        "    Accuracy = []\n",
        "    \n",
        "    Eq_opp_diff = []\n",
        "    \n",
        "    \n",
        "    #training and validating in 5 folds\n",
        "    for fold in range(len(train_folds)):\n",
        "      scale_orig = StandardScaler()\n",
        "      X_train_ = scale_orig.fit_transform(train_folds[fold].features)\n",
        "      y_train_ = train_folds[fold].labels.ravel()\n",
        "\n",
        "      X_test_ = scale_orig.transform(corresponding_validator_folds[fold].features) \n",
        "      y_test_ = corresponding_validator_folds[fold].labels.ravel()\n",
        "\n",
        "      RW = Reweighing(unprivileged_groups=unprivileged_groups,privileged_groups=privileged_groups)\n",
        "\n",
        "      train_fold_reweighed = RW.fit_transform(train_folds[fold])\n",
        "                \n",
        "      model.fit(X_train_,y_train_,sample_weight=train_fold_reweighed.instance_weights)\n",
        "      predictions = model.predict(X_test_)\n",
        "      \n",
        "      test_pred_ = corresponding_validator_folds[fold].copy()\n",
        "      test_pred_.labels = predictions\n",
        "\n",
        "      accuracy = sum(predictions == y_test_)/len(y_test_)\n",
        "      Accuracy.append(accuracy)\n",
        "      \n",
        "    \n",
        "      #Classification metric object defined\n",
        "      metric = ClassificationMetric(corresponding_validator_folds[fold], test_pred_, unprivileged_groups=unprivileged_groups, privileged_groups=privileged_groups)\n",
        "\n",
        "    \n",
        "      Eq_opp_diff.append(metric.equal_opportunity_difference())\n",
        "\n",
        "    \n",
        "\n",
        "      \n",
        "      \n",
        "    #The lists are converted to numpy array so that directly mean can be calculated\n",
        "    Acc = np.asarray(Accuracy)\n",
        "  \n",
        "    eod = np.asarray(Eq_opp_diff)\n",
        "    \n",
        "    #Appending mean values of accuracy and fairness metric for each C value.\n",
        "    dict_['accuracy'].append(np.mean(Acc))\n",
        "    \n",
        "    dict_['eq_opp_diff'].append(np.mean(eod))\n",
        "\n",
        "\n",
        "  return dict_, C_values"
      ],
      "metadata": {
        "id": "NYKQxu8A-Uft"
      },
      "execution_count": null,
      "outputs": []
    },
    {
      "cell_type": "code",
      "source": [
        "dict_metric , c_val = custom_cross_validation_with_reweighing(train)#Doing Cross Validation"
      ],
      "metadata": {
        "id": "H5gWqAzSEq7n"
      },
      "execution_count": null,
      "outputs": []
    },
    {
      "cell_type": "code",
      "source": [
        "dict_metric"
      ],
      "metadata": {
        "colab": {
          "base_uri": "https://localhost:8080/"
        },
        "id": "piqDTLQCGFBU",
        "outputId": "204fecb5-a711-465a-c3a9-d9ed36c06c92"
      },
      "execution_count": null,
      "outputs": [
        {
          "output_type": "execute_result",
          "data": {
            "text/plain": [
              "{'accuracy': [0.7896983590183363,\n",
              "  0.7896983590183363,\n",
              "  0.7896983590183363,\n",
              "  0.7896983590183363,\n",
              "  0.7896983590183363,\n",
              "  0.7896983590183363,\n",
              "  0.7890548960174588,\n",
              "  0.7865394251458449,\n",
              "  0.7864809285094014,\n",
              "  0.7864809285094014,\n",
              "  0.7864809285094014,\n",
              "  0.7864809285094014,\n",
              "  0.7864809285094014,\n",
              "  0.7864809285094014,\n",
              "  0.7864809285094014],\n",
              " 'eq_opp_diff': [-0.010798338894180548,\n",
              "  -0.010798338894180548,\n",
              "  -0.010798338894180548,\n",
              "  -0.010798338894180548,\n",
              "  -0.010798338894180548,\n",
              "  -0.010798338894180548,\n",
              "  -0.007455893215968445,\n",
              "  -0.0019002020841960344,\n",
              "  -0.0029552411870439,\n",
              "  -0.0029552411870439,\n",
              "  -0.0029552411870439,\n",
              "  -0.0029552411870439,\n",
              "  -0.0029552411870439,\n",
              "  -0.0029552411870439,\n",
              "  -0.0029552411870439]}"
            ]
          },
          "metadata": {},
          "execution_count": 20
        }
      ]
    },
    {
      "cell_type": "code",
      "source": [
        "#Creating plot for how accuracy and fairness varies with the 'C' values\n",
        "fig,ax = plt.subplots()\n",
        "ax.plot(c_val,dict_metric['accuracy'], color = 'green')\n",
        "plt.xscale('log')\n",
        "ax.set_xlabel('C Values', fontsize = 14)\n",
        "ax.set_ylabel('Accuracy',color = 'green', fontsize = 14)\n",
        "ax2 = ax.twinx()\n",
        "ax2.plot(c_val,dict_metric['eq_opp_diff'])\n",
        "ax2.set_ylabel('Fairness',color = 'blue', fontsize = 14)\n",
        "plt.title('Accuracy and Fairness v/s different C values', fontsize = 14)\n",
        "\n",
        "plt.show()\n"
      ],
      "metadata": {
        "colab": {
          "base_uri": "https://localhost:8080/",
          "height": 304
        },
        "id": "cPq2dbdtGKGU",
        "outputId": "89369a61-84ee-4934-e358-a943e857ae35"
      },
      "execution_count": null,
      "outputs": [
        {
          "output_type": "display_data",
          "data": {
            "text/plain": [
              "<Figure size 432x288 with 2 Axes>"
            ],
            "image/png": "[encoded data removed]"
          },
          "metadata": {
            "needs_background": "light"
          }
        }
      ]
    },
    {
      "cell_type": "markdown",
      "source": [
        "Even after reweighing,\n",
        "The model with highest accuracy has c value = 1,\n",
        "\n",
        "The model with highest fairness has c value = 0.00001"
      ],
      "metadata": {
        "id": "mb6ZwnjvGmT7"
      }
    },
    {
      "cell_type": "code",
      "source": [
        "#General function defined to train the model with the required parameter 'C' with reweighing; returns accuracy and TPR difference(fairness)\n",
        "def test_hyper_par_reweighing(x):\n",
        "  model = LogisticRegression(solver = 'liblinear', random_state = 1, C = x)\n",
        "\n",
        "  scale_orig = StandardScaler()\n",
        "  X_train = scale_orig.fit_transform(train.features)\n",
        "  y_train = train.labels.ravel()\n",
        "\n",
        "  X_test = scale_orig.transform(test.features) \n",
        "  y_test = test.labels.ravel()\n",
        "\n",
        "  RW = Reweighing(unprivileged_groups=unprivileged_groups,privileged_groups=privileged_groups)# Reweighing the train data\n",
        "\n",
        "  train_fold_reweighed = RW.fit_transform(train)\n",
        "\n",
        "  model.fit(X_train,y_train,sample_weight=train_fold_reweighed.instance_weights)#The sample weights are set as the instance weights of the train data\n",
        "  predictions = model.predict(X_test)\n",
        "\n",
        "  test_pred = test.copy()\n",
        "  test_pred.labels = predictions\n",
        "\n",
        "  accuracy = sum(predictions==y_test)/len(y_test)#accuray\n",
        "\n",
        "  metric = ClassificationMetric(test, test_pred, unprivileged_groups=unprivileged_groups, privileged_groups=privileged_groups)\n",
        "\n",
        "  eq_opp_diff = (metric.equal_opportunity_difference())#fairness metric value\n",
        "\n",
        "  return accuracy,eq_opp_diff"
      ],
      "metadata": {
        "id": "Et-f8BPEKg2C"
      },
      "execution_count": null,
      "outputs": []
    },
    {
      "cell_type": "code",
      "source": [
        "#calculating accuracy and fairness(TPR difference) for the model with highest accuracy (reweighed)\n",
        "a,f = test_hyper_par_reweighing(1)#passing C value corresponding to highest accuracy\n",
        "print('Accuracy : {} \\nFairness : {}'.format(a,f))"
      ],
      "metadata": {
        "colab": {
          "base_uri": "https://localhost:8080/"
        },
        "id": "07SmXq1zfAO8",
        "outputId": "d8616958-a0d4-4fc5-fbb7-ca41e061a610"
      },
      "execution_count": null,
      "outputs": [
        {
          "output_type": "stream",
          "name": "stdout",
          "text": [
            "Accuracy : 0.7905548351873336 \n",
            "Fairness : 0.03513180586351322\n"
          ]
        }
      ]
    },
    {
      "cell_type": "code",
      "source": [
        "#calculating accuracy and fairness(TPR difference) for the model with highest fairness (reweighed)\n",
        "a,f = test_hyper_par_reweighing(0.00001)#passing C value corresponding to highest fairness metric\n",
        "print('Accuracy : {} \\nFairness : {}'.format(a,f))"
      ],
      "metadata": {
        "colab": {
          "base_uri": "https://localhost:8080/"
        },
        "id": "smq0vJfUfPe6",
        "outputId": "e8d2b72a-ffc9-4dfc-9337-d3eebeb6d890"
      },
      "execution_count": null,
      "outputs": [
        {
          "output_type": "stream",
          "name": "stdout",
          "text": [
            "Accuracy : 0.7876202825359995 \n",
            "Fairness : 0.03327174180832715\n"
          ]
        }
      ]
    },
    {
      "cell_type": "markdown",
      "source": [
        "# Task 1 German Data"
      ],
      "metadata": {
        "id": "kN0T0stssRF1"
      }
    },
    {
      "cell_type": "code",
      "source": [
        "cd /usr/local/lib/python3.7/dist-packages/aif360/data/raw/german"
      ],
      "metadata": {
        "colab": {
          "base_uri": "https://localhost:8080/"
        },
        "id": "-GZ2VdnWtpJ1",
        "outputId": "4b977e4f-b184-4172-9428-5ebe34d6e687"
      },
      "execution_count": null,
      "outputs": [
        {
          "output_type": "stream",
          "name": "stdout",
          "text": [
            "/usr/local/lib/python3.7/dist-packages/aif360/data/raw/german\n"
          ]
        }
      ]
    },
    {
      "cell_type": "code",
      "source": [
        "!wget https://archive.ics.uci.edu/ml/machine-learning-databases/statlog/german/german.data\n",
        "!wget https://archive.ics.uci.edu/ml/machine-learning-databases/statlog/german/german.doc\n"
      ],
      "metadata": {
        "colab": {
          "base_uri": "https://localhost:8080/"
        },
        "id": "1vtB7s5atxfs",
        "outputId": "a952355e-07a8-4187-b8c2-05c5a806f423"
      },
      "execution_count": null,
      "outputs": [
        {
          "output_type": "stream",
          "name": "stdout",
          "text": [
            "--2022-05-12 18:05:21--  https://archive.ics.uci.edu/ml/machine-learning-databases/statlog/german/german.data\n",
            "Resolving archive.ics.uci.edu (archive.ics.uci.edu)... 128.195.10.252\n",
            "Connecting to archive.ics.uci.edu (archive.ics.uci.edu)|128.195.10.252|:443... connected.\n",
            "HTTP request sent, awaiting response... 200 OK\n",
            "Length: 79793 (78K) [application/x-httpd-php]\n",
            "Saving to: ‘german.data’\n",
            "\n",
            "german.data         100%[===================>]  77.92K  --.-KB/s    in 0.1s    \n",
            "\n",
            "2022-05-12 18:05:22 (773 KB/s) - ‘german.data’ saved [79793/79793]\n",
            "\n",
            "--2022-05-12 18:05:22--  https://archive.ics.uci.edu/ml/machine-learning-databases/statlog/german/german.doc\n",
            "Resolving archive.ics.uci.edu (archive.ics.uci.edu)... 128.195.10.252\n",
            "Connecting to archive.ics.uci.edu (archive.ics.uci.edu)|128.195.10.252|:443... connected.\n",
            "HTTP request sent, awaiting response... 200 OK\n",
            "Length: 4679 (4.6K) [application/x-httpd-php]\n",
            "Saving to: ‘german.doc’\n",
            "\n",
            "german.doc          100%[===================>]   4.57K  --.-KB/s    in 0s      \n",
            "\n",
            "2022-05-12 18:05:22 (97.2 MB/s) - ‘german.doc’ saved [4679/4679]\n",
            "\n"
          ]
        }
      ]
    },
    {
      "cell_type": "code",
      "source": [
        "privileged_groups = [{'age': 1}]\n",
        "unprivileged_groups = [{'age': 0}]\n",
        "dataset_orig = load_preproc_data_german(['age'])"
      ],
      "metadata": {
        "id": "fdnxy80vNPDI"
      },
      "execution_count": null,
      "outputs": []
    },
    {
      "cell_type": "code",
      "source": [
        "dataset_orig"
      ],
      "metadata": {
        "colab": {
          "base_uri": "https://localhost:8080/"
        },
        "id": "_LIbVzR8s-2d",
        "outputId": "fe605b17-7229-47a8-d19e-385e791cabe8"
      },
      "execution_count": null,
      "outputs": [
        {
          "output_type": "execute_result",
          "data": {
            "text/plain": [
              "               instance weights            features                            \\\n",
              "                                protected attribute                             \n",
              "                                                age  sex credit_history=Delay   \n",
              "instance names                                                                  \n",
              "0                           1.0                 1.0  1.0                  0.0   \n",
              "1                           1.0                 0.0  0.0                  0.0   \n",
              "2                           1.0                 1.0  1.0                  0.0   \n",
              "3                           1.0                 1.0  1.0                  0.0   \n",
              "4                           1.0                 1.0  1.0                  1.0   \n",
              "...                         ...                 ...  ...                  ...   \n",
              "995                         1.0                 1.0  0.0                  0.0   \n",
              "996                         1.0                 1.0  1.0                  0.0   \n",
              "997                         1.0                 1.0  1.0                  0.0   \n",
              "998                         1.0                 0.0  1.0                  0.0   \n",
              "999                         1.0                 1.0  1.0                  0.0   \n",
              "\n",
              "                                                                           \\\n",
              "                                                                            \n",
              "               credit_history=None/Paid credit_history=Other savings=500+   \n",
              "instance names                                                              \n",
              "0                                   0.0                  1.0          0.0   \n",
              "1                                   1.0                  0.0          0.0   \n",
              "2                                   0.0                  1.0          0.0   \n",
              "3                                   1.0                  0.0          0.0   \n",
              "4                                   0.0                  0.0          0.0   \n",
              "...                                 ...                  ...          ...   \n",
              "995                                 1.0                  0.0          0.0   \n",
              "996                                 1.0                  0.0          0.0   \n",
              "997                                 1.0                  0.0          0.0   \n",
              "998                                 1.0                  0.0          0.0   \n",
              "999                                 0.0                  1.0          0.0   \n",
              "\n",
              "                                                                       \\\n",
              "                                                                        \n",
              "               savings=<500 savings=Unknown/None employment=1-4 years   \n",
              "instance names                                                          \n",
              "0                       0.0                  1.0                  0.0   \n",
              "1                       1.0                  0.0                  1.0   \n",
              "2                       1.0                  0.0                  0.0   \n",
              "3                       1.0                  0.0                  0.0   \n",
              "4                       1.0                  0.0                  1.0   \n",
              "...                     ...                  ...                  ...   \n",
              "995                     1.0                  0.0                  0.0   \n",
              "996                     1.0                  0.0                  1.0   \n",
              "997                     1.0                  0.0                  0.0   \n",
              "998                     1.0                  0.0                  1.0   \n",
              "999                     1.0                  0.0                  0.0   \n",
              "\n",
              "                                                         labels  \n",
              "                                                                 \n",
              "               employment=4+ years employment=Unemployed         \n",
              "instance names                                                   \n",
              "0                              1.0                   0.0    1.0  \n",
              "1                              0.0                   0.0    2.0  \n",
              "2                              1.0                   0.0    1.0  \n",
              "3                              1.0                   0.0    1.0  \n",
              "4                              0.0                   0.0    2.0  \n",
              "...                            ...                   ...    ...  \n",
              "995                            1.0                   0.0    1.0  \n",
              "996                            0.0                   0.0    1.0  \n",
              "997                            1.0                   0.0    1.0  \n",
              "998                            0.0                   0.0    2.0  \n",
              "999                            0.0                   1.0    1.0  \n",
              "\n",
              "[1000 rows x 13 columns]"
            ]
          },
          "metadata": {},
          "execution_count": 28
        }
      ]
    },
    {
      "cell_type": "code",
      "source": [
        "dataset_orig.feature_names"
      ],
      "metadata": {
        "colab": {
          "base_uri": "https://localhost:8080/"
        },
        "id": "ysb6iJ-fuKQL",
        "outputId": "7e750ebd-0c8e-411c-d276-f13969e8b970"
      },
      "execution_count": null,
      "outputs": [
        {
          "output_type": "execute_result",
          "data": {
            "text/plain": [
              "['age',\n",
              " 'sex',\n",
              " 'credit_history=Delay',\n",
              " 'credit_history=None/Paid',\n",
              " 'credit_history=Other',\n",
              " 'savings=500+',\n",
              " 'savings=<500',\n",
              " 'savings=Unknown/None',\n",
              " 'employment=1-4 years',\n",
              " 'employment=4+ years',\n",
              " 'employment=Unemployed']"
            ]
          },
          "metadata": {},
          "execution_count": 29
        }
      ]
    },
    {
      "cell_type": "code",
      "source": [
        "#Splitting the german data to  train and test in 0.7 ratio\n",
        "train, test = dataset_orig.split([0.7], shuffle=True)\n"
      ],
      "metadata": {
        "id": "eQizWRCbu7u7"
      },
      "execution_count": null,
      "outputs": []
    },
    {
      "cell_type": "code",
      "source": [
        "dict_metric ,c_val = custom_cross_validation(train,folds = 5)#Doing cross validation"
      ],
      "metadata": {
        "id": "GnSSHmQn2Hea"
      },
      "execution_count": null,
      "outputs": []
    },
    {
      "cell_type": "code",
      "source": [
        "dict_metric"
      ],
      "metadata": {
        "colab": {
          "base_uri": "https://localhost:8080/"
        },
        "id": "NwIPHgJAzDgm",
        "outputId": "45b2459c-aa68-4c63-e0e2-36623a1180c1"
      },
      "execution_count": null,
      "outputs": [
        {
          "output_type": "execute_result",
          "data": {
            "text/plain": [
              "{'accuracy': [0.6885714285714286,\n",
              "  0.6885714285714286,\n",
              "  0.6900000000000001,\n",
              "  0.6928571428571428,\n",
              "  0.6900000000000001,\n",
              "  0.6599999999999999,\n",
              "  0.6542857142857141,\n",
              "  0.6542857142857141,\n",
              "  0.6542857142857141,\n",
              "  0.6542857142857141,\n",
              "  0.6542857142857141,\n",
              "  0.6542857142857141,\n",
              "  0.6542857142857141,\n",
              "  0.6542857142857141,\n",
              "  0.6542857142857141],\n",
              " 'eq_opp_diff': [-0.24930385213150955,\n",
              "  -0.24930385213150955,\n",
              "  -0.2883988747559439,\n",
              "  -0.38972998560806565,\n",
              "  -0.3675077633858434,\n",
              "  -0.3335440511144096,\n",
              "  -0.3801711082677825,\n",
              "  -0.37776146971356567,\n",
              "  -0.37776146971356567,\n",
              "  -0.37776146971356567,\n",
              "  -0.37776146971356567,\n",
              "  -0.37776146971356567,\n",
              "  -0.37776146971356567,\n",
              "  -0.37776146971356567,\n",
              "  -0.37776146971356567]}"
            ]
          },
          "metadata": {},
          "execution_count": 32
        }
      ]
    },
    {
      "cell_type": "code",
      "source": [
        "#Creating plot for how accuracy and fairness varies with the 'C' values\n",
        "fig,ax = plt.subplots()\n",
        "ax.plot(c_val,dict_metric['accuracy'], color = 'green')\n",
        "plt.xscale('log')\n",
        "ax.set_xlabel('C Values', fontsize = 14)\n",
        "ax.set_ylabel('Accuracy',color = 'green', fontsize = 14)\n",
        "ax2 = ax.twinx()\n",
        "ax2.plot(c_val,dict_metric['eq_opp_diff'])\n",
        "ax2.set_ylabel('Fairness',color = 'blue', fontsize = 14)\n",
        "plt.title('Accuracy and Fairness v/s different C values', fontsize = 14)\n",
        "\n",
        "plt.show()\n"
      ],
      "metadata": {
        "colab": {
          "base_uri": "https://localhost:8080/",
          "height": 304
        },
        "id": "0Lvx6HSVzGIP",
        "outputId": "3dfa4364-32d4-492f-b2a1-a845463178a2"
      },
      "execution_count": null,
      "outputs": [
        {
          "output_type": "display_data",
          "data": {
            "text/plain": [
              "<Figure size 432x288 with 2 Axes>"
            ],
            "image/png": "[encoded data removed]"
          },
          "metadata": {
            "needs_background": "light"
          }
        }
      ]
    },
    {
      "cell_type": "code",
      "source": [
        "c_val[3]\n",
        "c_val[0]\n",
        "\n",
        "print('C value for maiximum accuracy : {} \\nC value for maximum fairness : {}'.format(c_val[3],c_val[0]))"
      ],
      "metadata": {
        "colab": {
          "base_uri": "https://localhost:8080/"
        },
        "id": "uOmoSzmE4Jlk",
        "outputId": "4c3db457-622b-471e-a2f8-7ab7ba5eb4d3"
      },
      "execution_count": null,
      "outputs": [
        {
          "output_type": "stream",
          "name": "stdout",
          "text": [
            "C value for maiximum accuracy : 0.0071968567300115215 \n",
            "C value for maximum fairness : 1.0\n"
          ]
        }
      ]
    },
    {
      "cell_type": "code",
      "source": [
        "#calculating accuracy and fairness(TPR difference) for the model with highest accuracy\n",
        "a,f = test_hyper_par(0.0071968567300115215)#passing C value corresponding to highest accuracy \n",
        "print('Accuracy : {} \\nFairness : {}'.format(a,f))"
      ],
      "metadata": {
        "colab": {
          "base_uri": "https://localhost:8080/"
        },
        "id": "IYMKtNWMzVbg",
        "outputId": "fb016632-98c1-40e7-bf3c-e6ff4788e992"
      },
      "execution_count": null,
      "outputs": [
        {
          "output_type": "stream",
          "name": "stdout",
          "text": [
            "Accuracy : 0.67 \n",
            "Fairness : -0.38633241758241754\n"
          ]
        }
      ]
    },
    {
      "cell_type": "code",
      "source": [
        "#calculating accuracy and fairness(TPR difference) for the model with highest fairness\n",
        "a,f = test_hyper_par(1)#passing C value corresponding to highest fairness\n",
        "print('Accuracy : {} \\nFairness : {}'.format(a,f))"
      ],
      "metadata": {
        "colab": {
          "base_uri": "https://localhost:8080/"
        },
        "id": "tllu78kpzwTF",
        "outputId": "18ec417a-7617-43c0-ddcc-2e99eff2a56c"
      },
      "execution_count": null,
      "outputs": [
        {
          "output_type": "stream",
          "name": "stdout",
          "text": [
            "Accuracy : 0.7166666666666667 \n",
            "Fairness : -0.21325549450549453\n"
          ]
        }
      ]
    },
    {
      "cell_type": "markdown",
      "source": [
        "# Task 2 German Data"
      ],
      "metadata": {
        "id": "ETebYVIf0o0v"
      }
    },
    {
      "cell_type": "code",
      "source": [
        "dict_metric ,c_val = custom_cross_validation_with_reweighing(train) # doing cross validation"
      ],
      "metadata": {
        "id": "quxmqaA90uRF"
      },
      "execution_count": null,
      "outputs": []
    },
    {
      "cell_type": "code",
      "source": [
        "dict_metric"
      ],
      "metadata": {
        "colab": {
          "base_uri": "https://localhost:8080/"
        },
        "id": "XjM1ko2E1I-D",
        "outputId": "751a6b25-d97f-4415-84c0-f2c230d040c1"
      },
      "execution_count": null,
      "outputs": [
        {
          "output_type": "execute_result",
          "data": {
            "text/plain": [
              "{'accuracy': [0.6871428571428572,\n",
              "  0.6871428571428572,\n",
              "  0.6900000000000001,\n",
              "  0.6985714285714286,\n",
              "  0.68,\n",
              "  0.6671428571428573,\n",
              "  0.6671428571428573,\n",
              "  0.6671428571428573,\n",
              "  0.6671428571428573,\n",
              "  0.6671428571428573,\n",
              "  0.6671428571428573,\n",
              "  0.6671428571428573,\n",
              "  0.6671428571428573,\n",
              "  0.6671428571428573,\n",
              "  0.6671428571428573],\n",
              " 'eq_opp_diff': [0.06373216602368503,\n",
              "  0.06373216602368503,\n",
              "  0.05432040131780267,\n",
              "  0.005339856830197864,\n",
              "  -0.016023849182620342,\n",
              "  -0.19754927937678118,\n",
              "  -0.19754927937678118,\n",
              "  -0.19754927937678118,\n",
              "  -0.19754927937678118,\n",
              "  -0.19754927937678118,\n",
              "  -0.19754927937678118,\n",
              "  -0.19754927937678118,\n",
              "  -0.19754927937678118,\n",
              "  -0.19754927937678118,\n",
              "  -0.19754927937678118]}"
            ]
          },
          "metadata": {},
          "execution_count": 38
        }
      ]
    },
    {
      "cell_type": "code",
      "source": [
        "#Creating plot for how accuracy and fairness varies with the 'C' values\n",
        "fig,ax = plt.subplots()\n",
        "ax.plot(c_val,dict_metric['accuracy'], color = 'green')\n",
        "plt.xscale('log')\n",
        "ax.set_xlabel('C Values', fontsize = 14)\n",
        "ax.set_ylabel('Accuracy',color = 'green', fontsize = 14)\n",
        "ax2 = ax.twinx()\n",
        "ax2.plot(c_val,dict_metric['eq_opp_diff'])\n",
        "ax2.set_ylabel('Fairness',color = 'blue', fontsize = 14)\n",
        "plt.title('Accuracy and Fairness v/s different C values', fontsize = 14)\n",
        "\n",
        "plt.show()\n"
      ],
      "metadata": {
        "colab": {
          "base_uri": "https://localhost:8080/",
          "height": 304
        },
        "id": "FRtC53Rh1LGs",
        "outputId": "2d03a051-6428-40d1-9d44-1373efc39af6"
      },
      "execution_count": null,
      "outputs": [
        {
          "output_type": "display_data",
          "data": {
            "text/plain": [
              "<Figure size 432x288 with 2 Axes>"
            ],
            "image/png": "[encoded data removed]"
          },
          "metadata": {
            "needs_background": "light"
          }
        }
      ]
    },
    {
      "cell_type": "code",
      "source": [
        "c_val[2]\n",
        "c_val[3]\n",
        "\n",
        "print('C value for maiximum accuracy : {} \\nC value for maximum fairness : {}'.format(c_val[2],c_val[3]))"
      ],
      "metadata": {
        "colab": {
          "base_uri": "https://localhost:8080/"
        },
        "id": "hIh_XrSF_Wxk",
        "outputId": "ccfa4497-e8e6-45c6-b400-68a799bdf978"
      },
      "execution_count": null,
      "outputs": [
        {
          "output_type": "stream",
          "name": "stdout",
          "text": [
            "C value for maiximum accuracy : 0.0372759372031494 \n",
            "C value for maximum fairness : 0.0071968567300115215\n"
          ]
        }
      ]
    },
    {
      "cell_type": "code",
      "source": [
        "#calculating accuracy and fairness(TPR difference) for the model with highest accuracy (reweighed)\n",
        "a,f = test_hyper_par_reweighing(0.0372759372031494)#passing C value corresponding to highest accuracy \n",
        "print('Accuracy : {} \\nFairness : {}'.format(a,f))"
      ],
      "metadata": {
        "colab": {
          "base_uri": "https://localhost:8080/"
        },
        "id": "aP-SqFCP1wR6",
        "outputId": "f479f61b-b0fb-46a4-b09e-3d173dd07c33"
      },
      "execution_count": null,
      "outputs": [
        {
          "output_type": "stream",
          "name": "stdout",
          "text": [
            "Accuracy : 0.68 \n",
            "Fairness : 0.08241758241758246\n"
          ]
        }
      ]
    },
    {
      "cell_type": "code",
      "source": [
        "#calculating accuracy and fairness(TPR difference) for the model with highest fairness (reweighed)\n",
        "a,f = test_hyper_par_reweighing(0.0071968567300115215)#passing C value corresponding to highest fairness\n",
        "print('Accuracy : {} \\nFairness : {}'.format(a,f))"
      ],
      "metadata": {
        "colab": {
          "base_uri": "https://localhost:8080/"
        },
        "id": "0NU9jYNP_Vzl",
        "outputId": "6b6e03dc-808e-4ca9-f0c0-91a31102a620"
      },
      "execution_count": null,
      "outputs": [
        {
          "output_type": "stream",
          "name": "stdout",
          "text": [
            "Accuracy : 0.68 \n",
            "Fairness : 0.08241758241758246\n"
          ]
        }
      ]
    },
    {
      "cell_type": "code",
      "source": [
        ""
      ],
      "metadata": {
        "id": "NRqX4_QUAJ1t"
      },
      "execution_count": null,
      "outputs": []
    },
    {
      "cell_type": "markdown",
      "source": [
        "# Additional Section "
      ],
      "metadata": {
        "id": "aejXbrwKFDQV"
      }
    },
    {
      "cell_type": "code",
      "source": [
        "#Importing random forest classifier\n",
        "from sklearn.ensemble import RandomForestClassifier"
      ],
      "metadata": {
        "id": "dvA7ShozFHF7"
      },
      "execution_count": null,
      "outputs": []
    },
    {
      "cell_type": "markdown",
      "source": [
        "## Random Forest Classifier on **Adult Data**"
      ],
      "metadata": {
        "id": "cHjdVwf8aTJl"
      }
    },
    {
      "cell_type": "code",
      "source": [
        "#Setting the privilaged and unprevilaged groups and splitting the data into train and test\n",
        "privileged_groups = [{'sex': 1}]\n",
        "unprivileged_groups = [{'sex': 0}]\n",
        "dataset_orig = load_preproc_data_adult(['sex'])\n",
        "train, test = dataset_orig.split([0.7], shuffle=True)\n"
      ],
      "metadata": {
        "id": "KH_y_O_aKrte"
      },
      "execution_count": null,
      "outputs": []
    },
    {
      "cell_type": "code",
      "source": [
        "#Random forest model is defined\n",
        "model = RandomForestClassifier(n_estimators=100)"
      ],
      "metadata": {
        "id": "9ttOCSatRMz-"
      },
      "execution_count": null,
      "outputs": []
    },
    {
      "cell_type": "markdown",
      "source": [
        "### Task 1"
      ],
      "metadata": {
        "id": "fr0pRISYTrEd"
      }
    },
    {
      "cell_type": "code",
      "source": [
        "#Function for calculating accuracy and fairness using random forest model\n",
        "def test_randomforest(train = train): \n",
        "  scale_orig = StandardScaler()\n",
        "  X_train = scale_orig.fit_transform(train.features)\n",
        "  y_train = train.labels.ravel()\n",
        "\n",
        "  X_test = scale_orig.transform(test.features) \n",
        "  y_test = test.labels.ravel()\n",
        "\n",
        "  model.fit(X_train,y_train)\n",
        "  predictions = model.predict(X_test)\n",
        "\n",
        "  test_pred = test.copy()\n",
        "  test_pred.labels = predictions\n",
        "\n",
        "  accuracy = sum(predictions==y_test)/len(y_test)\n",
        "\n",
        "  metric = ClassificationMetric(test, test_pred, unprivileged_groups=unprivileged_groups, privileged_groups=privileged_groups)\n",
        "\n",
        "  eq_opp_diff = (metric.equal_opportunity_difference())\n",
        "\n",
        "  return accuracy,eq_opp_diff\n"
      ],
      "metadata": {
        "id": "xsTI3YQrRboj"
      },
      "execution_count": null,
      "outputs": []
    },
    {
      "cell_type": "code",
      "source": [
        "accuracy, eq_opp_diff = test_randomforest(train = train)\n",
        "print('Accuracy : {} \\nFairness : {}'.format(accuracy,eq_opp_diff))"
      ],
      "metadata": {
        "colab": {
          "base_uri": "https://localhost:8080/"
        },
        "id": "3I5yHGa8SRBc",
        "outputId": "9dabd7b4-5aa8-4da8-df77-f76a208c4cea"
      },
      "execution_count": null,
      "outputs": [
        {
          "output_type": "stream",
          "name": "stdout",
          "text": [
            "Accuracy : 0.8092540776632772 \n",
            "Fairness : -0.466078697421981\n"
          ]
        }
      ]
    },
    {
      "cell_type": "markdown",
      "source": [
        "## Task 2"
      ],
      "metadata": {
        "id": "GJn-AODPTyob"
      }
    },
    {
      "cell_type": "code",
      "source": [
        "#Function for calculating accuracy and fairness using random forest model with reweighing\n",
        "def test_randomforest_reweighing(train = train):\n",
        "  scale_orig = StandardScaler()\n",
        "  X_train = scale_orig.fit_transform(train.features)\n",
        "  y_train = train.labels.ravel()\n",
        "\n",
        "  X_test = scale_orig.transform(test.features) \n",
        "  y_test = test.labels.ravel()\n",
        "\n",
        "  RW = Reweighing(unprivileged_groups=unprivileged_groups,privileged_groups=privileged_groups)# Reweighing the train data\n",
        "\n",
        "  train_fold_reweighed = RW.fit_transform(train)\n",
        "\n",
        "\n",
        "  model.fit(X_train,y_train,sample_weight=train_fold_reweighed.instance_weights)#The sample weights are set as the instance weights of the train data\n",
        "  predictions = model.predict(X_test)\n",
        "\n",
        "  test_pred = test.copy()\n",
        "  test_pred.labels = predictions\n",
        "\n",
        "  accuracy = sum(predictions==y_test)/len(y_test)#Accuracy\n",
        "\n",
        "  metric = ClassificationMetric(test, test_pred, unprivileged_groups=unprivileged_groups, privileged_groups=privileged_groups)\n",
        "\n",
        "  eq_opp_diff = (metric.equal_opportunity_difference())#Fairness metric value\n",
        "\n",
        "  return accuracy, eq_opp_diff"
      ],
      "metadata": {
        "id": "0O_EndK8Sa3r"
      },
      "execution_count": null,
      "outputs": []
    },
    {
      "cell_type": "code",
      "source": [
        "accuracy, eq_opp_diff = test_randomforest_reweighing(train = train)\n",
        "print('Accuracy : {} \\nFairness : {}'.format(accuracy,eq_opp_diff))"
      ],
      "metadata": {
        "colab": {
          "base_uri": "https://localhost:8080/"
        },
        "id": "seWsCjU5TNHj",
        "outputId": "5ef08e55-d66f-4db5-bff0-dbe0bdc45185"
      },
      "execution_count": null,
      "outputs": [
        {
          "output_type": "stream",
          "name": "stdout",
          "text": [
            "Accuracy : 0.7936941240701563 \n",
            "Fairness : -0.04330850386287488\n"
          ]
        }
      ]
    },
    {
      "cell_type": "markdown",
      "source": [
        "## Random Forest Classifier on **German Data**"
      ],
      "metadata": {
        "id": "lLkJbTGzaZMe"
      }
    },
    {
      "cell_type": "code",
      "source": [
        "#Privilaged groups and unprivilaged groups are set accordingly and the data is split into train and test with the ratio 0.7\n",
        "privileged_groups = [{'age': 1}]\n",
        "unprivileged_groups = [{'age': 0}]\n",
        "dataset_orig = load_preproc_data_german(['age'])\n",
        "train, test = dataset_orig.split([0.7], shuffle=True)"
      ],
      "metadata": {
        "id": "-z4_w24pTQhs"
      },
      "execution_count": null,
      "outputs": []
    },
    {
      "cell_type": "markdown",
      "source": [
        "### Task 1"
      ],
      "metadata": {
        "id": "AqJQ1YgzUDY1"
      }
    },
    {
      "cell_type": "code",
      "source": [
        "#calculating accuracy and fairness using random forest\n",
        "accuracy, eq_opp_diff = test_randomforest(train = train)"
      ],
      "metadata": {
        "id": "-55qd_robJsN"
      },
      "execution_count": null,
      "outputs": []
    },
    {
      "cell_type": "markdown",
      "source": [
        ""
      ],
      "metadata": {
        "id": "Oz8BpOQNUBuB"
      }
    },
    {
      "cell_type": "code",
      "source": [
        "print('Accuracy : {} \\nFairness : {}'.format(accuracy,eq_opp_diff))"
      ],
      "metadata": {
        "colab": {
          "base_uri": "https://localhost:8080/"
        },
        "id": "A68BZAMNWhpm",
        "outputId": "db09d1cc-3aa2-4eaa-e29d-caf29bea0d90"
      },
      "execution_count": null,
      "outputs": [
        {
          "output_type": "stream",
          "name": "stdout",
          "text": [
            "Accuracy : 0.7033333333333334 \n",
            "Fairness : -0.15724637681159415\n"
          ]
        }
      ]
    },
    {
      "cell_type": "markdown",
      "source": [
        "### Task 2"
      ],
      "metadata": {
        "id": "Y21OBKXKUGql"
      }
    },
    {
      "cell_type": "code",
      "source": [
        "#Calculating accuracy and fairness using random forest with reweighing\n",
        "accuracy, eq_opp_diff = test_randomforest_reweighing(train = train)"
      ],
      "metadata": {
        "id": "Vx1D8fqObaSF"
      },
      "execution_count": null,
      "outputs": []
    },
    {
      "cell_type": "code",
      "source": [
        "print('Accuracy : {} \\nFairness : {}'.format(accuracy,eq_opp_diff))"
      ],
      "metadata": {
        "colab": {
          "base_uri": "https://localhost:8080/"
        },
        "id": "CY6csItUXQdr",
        "outputId": "b6c4e230-3afa-4f0b-8a67-c9fa73ef860c"
      },
      "execution_count": null,
      "outputs": [
        {
          "output_type": "stream",
          "name": "stdout",
          "text": [
            "Accuracy : 0.6933333333333334 \n",
            "Fairness : -0.11304347826086947\n"
          ]
        }
      ]
    },
    {
      "cell_type": "code",
      "source": [
        ""
      ],
      "metadata": {
        "id": "Ahu-sBV_Xak5"
      },
      "execution_count": null,
      "outputs": []
    }
  ]
}